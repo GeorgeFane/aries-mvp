{
 "nbformat": 4,
 "nbformat_minor": 2,
 "metadata": {
  "language_info": {
   "name": "python",
   "codemirror_mode": {
    "name": "ipython",
    "version": 3
   },
   "version": "3.7.3-final"
  },
  "orig_nbformat": 2,
  "file_extension": ".py",
  "mimetype": "text/x-python",
  "name": "python",
  "npconvert_exporter": "python",
  "pygments_lexer": "ipython3",
  "version": 3,
  "kernelspec": {
   "name": "python37364bit511efb0bb98042e6b5fde5bf082d6194",
   "display_name": "Python 3.7.3 64-bit"
  }
 },
 "cells": [
  {
   "source": [
    "import requests\n",
    "import json\n",
    "\n",
    "admin = {\n",
    "    'faber': 'http://0.0.0.0:8021',\n",
    "    'alice': 'http://0.0.0.0:8031'\n",
    "}"
   ],
   "cell_type": "code",
   "outputs": [],
   "metadata": {},
   "execution_count": 1
  },
  {
   "source": [
    "import requests\n",
    "\n",
    "dtype = 'ssn'\n",
    "\n",
    "schema_body = {\n",
    "    \"schema_name\": dtype,\n",
    "    \"schema_version\": '1.1.1',\n",
    "    \"attributes\": [dtype, 'issuer', 'holder'],\n",
    "}    \n",
    "schema_response = requests.post(\n",
    "    admin['faber'] + \"/schemas\", \n",
    "    json=schema_body\n",
    ").json()\n",
    "\n",
    "schema_id = schema_response[\"schema_id\"]\n",
    "\n",
    "credential_definition_body = {\n",
    "    \"schema_id\": schema_id,\n",
    "    \"support_revocation\": False,\n",
    "    \"revocation_registry_size\": 4,\n",
    "    \"tag\": 'default',\n",
    "}\n",
    "credential_definition_response = requests.post(\n",
    "    admin['faber'] + \"/credential-definitions\", \n",
    "    json=credential_definition_body\n",
    ").json()\n",
    "\n",
    "credential_definition_id = credential_definition_response[\n",
    "    \"credential_definition_id\"\n",
    "]    \n",
    "print(\n",
    "    schema_id, credential_definition_id\n",
    ")"
   ],
   "cell_type": "code",
   "outputs": [
    {
     "output_type": "stream",
     "name": "stdout",
     "text": "HcnMNFeUxjX1AzpDuP7ZzD:2:ssn:1.1.1 HcnMNFeUxjX1AzpDuP7ZzD:3:CL:52017:default\n"
    }
   ],
   "metadata": {},
   "execution_count": 4
  },
  {
   "source": [
    "credential_definition_response"
   ],
   "cell_type": "code",
   "outputs": [
    {
     "output_type": "execute_result",
     "data": {
      "text/plain": "{'revocation_registry_size': ['Value 0 must be an integer between 4 and 32768 inclusively']}"
     },
     "metadata": {},
     "execution_count": 3
    }
   ],
   "metadata": {},
   "execution_count": 3
  },
  {
   "source": [
    "connections = requests.get(\n",
    "    admin['faber'] + '/connections'\n",
    ").json()\n",
    "connection_id = connections['results'][0]['connection_id']\n",
    "\n",
    "issuer_did = requests.get(\n",
    "    admin['faber'] + '/wallet/did/public'\n",
    ").json()['result']['did']\n",
    "\n",
    "schema_ids = requests.get(\n",
    "    admin['faber'] + '/schemas/created'\n",
    ").json()['schema_ids']\n",
    "\n",
    "credential_definition_ids = requests.get(\n",
    "    admin['faber'] + '/credential-definitions/created'\n",
    ").json()['credential_definition_ids']"
   ],
   "cell_type": "code",
   "outputs": [],
   "metadata": {},
   "execution_count": 2
  },
  {
   "source": [
    "[\n",
    "    x['connection_id']\n",
    "    for x in connections['results']\n",
    "]"
   ],
   "cell_type": "code",
   "outputs": [
    {
     "output_type": "execute_result",
     "data": {
      "text/plain": "['b04cbf80-08a3-42fd-9aa1-6f3a3d95f23f',\n 'e0e92856-50c5-4603-8ed5-1f9c6792a0e5',\n 'f1c3d906-0235-480e-8383-c4e800feb5e9',\n '25153111-7e45-4c65-a51a-73a1a0738de9']"
     },
     "metadata": {},
     "execution_count": 4
    }
   ],
   "metadata": {},
   "execution_count": 4
  },
  {
   "source": [
    "cred_def_id = credential_definition_ids[0]\n",
    "cred_def_id"
   ],
   "cell_type": "code",
   "outputs": [
    {
     "output_type": "execute_result",
     "data": {
      "text/plain": "'FtT6DqATds6ws9FNqREy6H:3:CL:52023:default'"
     },
     "metadata": {},
     "execution_count": 29
    }
   ],
   "metadata": {},
   "execution_count": 29
  },
  {
   "source": [
    "credential_definition_ids"
   ],
   "cell_type": "code",
   "outputs": [
    {
     "output_type": "execute_result",
     "data": {
      "text/plain": "['FtT6DqATds6ws9FNqREy6H:3:CL:52023:default',\n 'FtT6DqATds6ws9FNqREy6H:3:CL:52021:Faber.Agent.degree_schema']"
     },
     "metadata": {},
     "execution_count": 17
    }
   ],
   "metadata": {},
   "execution_count": 17
  },
  {
   "source": [
    "connection_id"
   ],
   "cell_type": "code",
   "outputs": [
    {
     "output_type": "execute_result",
     "data": {
      "text/plain": "'2e2efaf8-93c5-4a7d-afd4-8c2f597918f7'"
     },
     "metadata": {},
     "execution_count": 20
    }
   ],
   "metadata": {},
   "execution_count": 20
  },
  {
   "source": [
    "json.dumps(offer_request)"
   ],
   "cell_type": "code",
   "outputs": [
    {
     "output_type": "execute_result",
     "data": {
      "text/plain": "'{\"connection_id\": \"2e2efaf8-93c5-4a7d-afd4-8c2f597918f7\", \"auto_remove\": false, \"credential_preview\": {\"@type\": \"https://didcomm.org/issue-credential/2.0/credential-preview\", \"attributes\": [{\"name\": \"holder\", \"value\": \"Alice Smith\"}, {\"name\": \"issuer\", \"value\": \"FtT6DqATds6ws9FNqREy6H\"}, {\"name\": \"ssn\", \"value\": \"123456789\"}]}, \"filter\": {\"indy\": {\"cred_def_id\": \"FtT6DqATds6ws9FNqREy6H:3:CL:52023:default\"}}, \"trace\": false}'"
     },
     "metadata": {},
     "execution_count": 32
    }
   ],
   "metadata": {},
   "execution_count": 32
  },
  {
   "source": [
    "offer_request = {\n",
    "    \"connection_id\": connection_id,\n",
    "    \"auto_remove\": False,\n",
    "    \"credential_preview\": {\n",
    "        \"@type\": \"https://didcomm.org/issue-credential/2.0/credential-preview\",\n",
    "        \"attributes\": [\n",
    "            {\n",
    "                \"name\": \"holder\",\n",
    "                \"value\": \"Alice Smith\"\n",
    "            },\n",
    "            {\n",
    "                \"name\": \"issuer\",\n",
    "                \"value\": issuer_did\n",
    "            },\n",
    "            {\n",
    "                \"name\": \"ssn\",\n",
    "                \"value\": \"123456789\"\n",
    "            }\n",
    "        ]\n",
    "    },\n",
    "    \"filter\": {\n",
    "        \"indy\": {\n",
    "            \"cred_def_id\": cred_def_id\n",
    "        }\n",
    "    },\n",
    "    \"trace\": False\n",
    "}\n",
    "\n",
    "requests.post(\n",
    "    admin['faber'] + \"/issue-credential-2.0/send-offer\", \n",
    "    json=offer_request\n",
    ").json()"
   ],
   "cell_type": "code",
   "outputs": [
    {
     "output_type": "execute_result",
     "data": {
      "text/plain": "{'cred_offer': {'@type': 'did:sov:BzCbsNYhMrjHiqZDTUASHg;spec/issue-credential/2.0/offer-credential',\n  '@id': 'a8f65549-7b0f-438b-9d6d-80dafe2e4c6b',\n  '~thread': {},\n  'credential_preview': {'@type': 'did:sov:BzCbsNYhMrjHiqZDTUASHg;spec/issue-credential/2.0/credential-preview',\n   'attributes': [{'name': 'holder', 'value': 'Alice Smith'},\n    {'name': 'issuer', 'value': 'FtT6DqATds6ws9FNqREy6H'},\n    {'name': 'ssn', 'value': '123456789'}]},\n  'formats': [{'attach_id': '0', 'format': 'hlindy-zkp-v1.0'}],\n  'offers~attach': [{'@id': '0',\n    'mime-type': 'application/json',\n    'data': {'base64': 'eyJzY2hlbWFfaWQiOiAiRnRUNkRxQVRkczZ3czlGTnFSRXk2SDoyOnNzbjoxLjEuMSIsICJjcmVkX2RlZl9pZCI6ICJGdFQ2RHFBVGRzNndzOUZOcVJFeTZIOjM6Q0w6NTIwMjM6ZGVmYXVsdCIsICJrZXlfY29ycmVjdG5lc3NfcHJvb2YiOiB7ImMiOiAiNDM4NTUxMzMxNTQyODM5Mjc5NzE0OTkwNDM3Njc1MDg0NDY4MjY2MTAxMjQ3NTUxNTk2OTMyNDQxMzc5ODIzNDE3OTE2NDIwMjk0NjIiLCAieHpfY2FwIjogIjY0NTYwNjg5Mzk0NDQzODg5MTIyNjgyMTQwMDU5NjI4NDc5MTczMjM3MDI0NjY1NDc3ODkwODk4MTcwODAwOTYwMzU3ODc5MjcwNDQzOTY2MTA0Njc5ODU2NjU4NzEzMjE2MjI3OTM3NjcyOTQxNjQ0NDY2MDAxMzU4NDU1OTE4MTg3MDU5ODE0NTUwMzc2ODcyNzkzMDAwNDI0OTUxMjI2MTgzNzUzNDU5MTYwNzczNDE4MjA4MzMzMTUxODk2MDEzMDk2MjcwMDU1MzMyMTY5NDU4NTg4NTMwNzgxMjE5Nzk0NjI1NjExNjgxMzc2NjUxMjU0MjQxMzQwMDcxMzYwMzMwNTU3NzM4NjM2MTUzNDc4MzA5MzA5Mjc2NjE3Mzg5OTE3NDAxNDI1MjMwODgzMDkwNDExNTE0NDQzNTI1MTMyNTYzOTA3OTA5NDUxMTE3MDAwODAzNDQ1NDM4MzM1MTEzMzI4NDc4NTY0MDcxNDIwNDc0ODgyMDE0MDQ3NjA2MzIxMzU1NTc2MzY5ODEyMjkxODMzNTg3ODkzMDUyODIxOTAyOTM1OTc4MTY4OTU3MTQ5NTUxMDI3NjQ4MDI1OTc1Mjc5MjA5MDg0ODM0OTI2MDM4NDA3Mjk4MjQ1OTIyMTgyNDE0NTI4MzU5NTE0MDkzMzQ2NjI3NzExMTg3Nzc0MzQzNjk2Njk3MDU2NTQ0MzI1NTk3MTk1NjU2NzIyMTYzNTcwODI1MjAwNDA4NTc2NTg4NjgxMjc5MDAzMTE4MDI0MjYwNjUwMjk1NTY4NTgyNjM2NDY4ODMyOTM1MjE0MTU2OTYyNDI1Njk2MjY4NjQ5MzIxNTY1MDc1MDAwNzc5MjA3MTk4MjMzNTU2MjI5MTUzMDc2Mzk1MTc2NzY5NDM3MDQ4MDQ5NzQ5NTQyNDM0MCIsICJ4cl9jYXAiOiBbWyJzc24iLCAiMzMzMjY5ODYwMzgyNDE3NTExNjAzODE3MTc4NTM3OTM0ODA5NDQyMjI4MDg2MjY5Mzk1Mjg4NzYwNDkzMjE3MTM3OTg3NzE2OTg0MTY1MTc1MjgxMDAyODY4NjgzOTc4MjAzNDcxODQ0MTU2MDg1ODQyNDA5OTUyNjEzODQ2NjA5MTU2NjAzMjcyODM0NDY3NTkzMzA0Mzg0MzEwMTgxNzk5MTc2OTQzMzA4NzgzMTYxOTk3NjUwMzIzMTMxMzAxNTU0NzM3MzQzMjM1Njg5ODgyMTc0NzIxMzY4NDIwNTI2NzQwNDg4Mzg1NTIxMjg1MTI1NjM3OTYyNzg1MTk5NDIzODU4Njk5NTQ2MzcwMzgyNDQwNDA3NzE4MjI1Mjc1ODU3MDQ0MzQ1OTMwMDU2Mzk4Njc0NzQxNjMxNzM3NjQ4NDE2MDE5MTg0MTE4MzM5NTIxNDAwNzM0NTQwNDIzNTcwNjIwMDE4NTM0Mjk1MDk1MzQ5MTk0MzA5NjU0OTc4NzYwNzU5MDg1MzA4MjE1OTM0MDQ1OTc3NDk3MjIxMjg1ODExMzEwMTk1NzgzMTA5NzAzODA3MjM2NTM1ODQxNjkzMDU5NjUwMjc2ODM2NTI5NDE5OTQ3MDA3ODk0NTkyNjkyMjY4MTI5MzA3NDMxNTQ5MTkyMjU2MDgzNDAxMDU1OTc1NTE5NjIxMTIzMjAyNTEyMTYxNzE4MzI3NDEwODUyMDY0ODY3NTU2MzE2MDk3MjY0NjI4NTY1NzYzMTE5MDIyMzYxNjI2NDM1OTQwNTY5MjM2NTY3NDY4OTcwMzYyOTIxMTMyNTU4NDc4MzYxMzM0MDc0MjQ4MjYzNTM5MDY5NDQ1Njg2NjQxMDE3MjU4NTEwNDE4NDI5NDEzMjUzNzEyMjEwNDczMjQ4NDM5MTY1Njc1Il0sIFsiaXNzdWVyIiwgIjQ5OTc2NTU3NzM4NjE5ODIwMjQyMzQ1NDUzMjYzMTkzOTkxOTk0OTU1Nzg3NzYyNTM0NzAyNDkxNzQ0NDA1MTQ2MDMzMDY3ODAxOTgyMzUwMDkyMTY2MzI3MTA1NjMxMTMyMTIxNTYwMDIzMzE3NzgzMDA5MjY2NTEyMTM0OTc0MDM0MDAzOTEyNTQ4MDIyMDg4MTY5NjcyNDY3ODY2MTQyOTI5MTA5NjY1MzI4MjA1MDg0ODE4NzQ5NjUyMjg3NzA0Nzc0MjU4MDA5NTA5MTc4MTg0NDEwODc5MDU2MzQyMDc2MzIyOTk4ODE3MzQ2ODUxNTA2MTI4Nzc4MDQ3Nzg2MDc3ODcyNjU4ODgyNjUyNDc0MDk1MzU2MDgzMjM5MjgzNzIzMzY4MzA3Njk2NjQ0NzQzOTE0OTkwNTk0NTczMDEwMjExNDc4MzM4ODMwNTQyMDk1MjY5OTYzMTYxMjM5MDkzMzIwMzkwNTgwNTM2NjM2NTQ3MTE0NjUyODM2MzU5MjI2NzI1NDUwNzEyMTgwODEyMjc4NzcxMjkzMjgzOTI3Mjg0ODU3MjUxMzE1Nzk2NTYxNzA2MzEwNTI5NTcyNjQ0OTAxNDM4MjU0MTc3MTM5MzI4ODg5NDE0NzM2OTA0OTYzNTkxODM5NzM1NjIzOTc5MTg2NDQ5NTg3MDAyODgyNjM3NDYwNjM3MTM0NDgxNjE1MTIyOTg5NTAwMTYyMzkwMTM0NTQ5Njc1ODQ2MzQ3OTEzNzkzNzk4MzUzNzg1ODk0NzE5NTc4MTU1ODgzMDg3NjY0MDgyMDA1ODY4MDQ2OTI2NDczNDE0Mjc2NDkxNzMyOTAyMTc2ODYxOTg2OTQyNDUwMTk4MzQ3OTM0ODI3MzE3ODY0MTExMzg5NDE0NTEzMTI1ODkyNDc1MDk3MDY0MSJdLCBbImhvbGRlciIsICI3ODMwMjUyMzAwNzM5OTE0MDgyMDEzNjE4NTgyMDU3NzE1ODAyNjA2OTM4NjM4MTM1NzgwODMyNzQyNjc3MTY0NjUxNDE1OTIxMTM2ODUyNDMyNTgwMzYwNDAyNTE3MDA3MjgzNzkyNjYwMzcxNjcxNzQzMDY5MTE3MTUxMDA2NTgwMzc4MTYyMTI1NTU3MTEzMzQ1OTk4MjAxMjA3MTY2NzI5ODQ0ODIwNjM3Njc2Mzc3MjUxMDAyNzU1OTY4NDQ2OTQ3NjYyNjg0ODE3MzE5MzczNjkzNjk2MDk5MTk2MzM2OTk0Njc5ODk5NjM2NjEwNzM1MTc5NzQyMTE4NjYyODI3OTg0MDg3NTY1OTc0NDUyNzUwNjY2MDE0MjAxODc2OTA2Njg5MDMxMjk5Nzc0ODg2NDUyODI0MDQ3ODE0MzgxODMyOTA1MjQxMzg5NDU1MDU5OTY0NDkzNjk4NzY2NTA5ODA2NDA1MjQxNDQ0MjQzMTg5Mzk1NjU5MjYwMTExNjAwOTMwNTg3NDY5OTgxOTMyMjg0OTAwMTIxMTU1MDM1ODMwMTYyMTE4MzYwMDczOTQwMTcyMzA3NzE0NDA3MzQ2MTk0NTM3NDkwOTE0NzIxNDcxODEzMTQ1Mjg1NTc2NjY3NzI2NDA0ODY0NTY5NDMxMTU2NzI4NDM2MDczMTM2MzIyMjc4NDkxMzU2MjU4NDUzNjY2NTM5NTEwNzY0MTYwNjk4NDg1MDE3MjE4ODEyNTkzNzY2NjIwNzE5ODU3NzczMjU5MTQ3MDA2MzI1MzY1MjI3OTE0OTIxMDIzMTU1NTAzNDg0MTQxNDYwMDUyMzAyODEwMjY2NDIxNzE5MjEwMjQwODk0NTU0NjI5MjI3NzQ0NTc1MDMzNzUyNjEzNjEwMjI1MTI3MzM4MzgxNjQ3MjUiXSwgWyJtYXN0ZXJfc2VjcmV0IiwgIjIyNzcyMDcwMzQwMjU4OTU0MTQ1OTMwMDAyOTIzNTg0NDY0MjM4NzY5OTQ2MzgxNjQ1ODA2MjYxNDkzMTEyODUyMzc2NDIyMDAzMTA0OTY5MzQ2NjQwOTMwNzAwNDM0NjQ0ODIwOTE5Mzc3NTQ1MTA5NTYzMzQ3MTUwNjUxNjA1NTI5NTM4MTc1MDk2MzU3Mzg0NjMxNDQ4MDc0MTQyNzUzMTA0NjUxMjU5MDg1Mzc3OTQ2NTA3MDM5MjMwODM3NjUxNzQzODc1MDMzODk5OTk3ODUxNzUzMDM3MTg1NzgzNTk0NTk0MTExNDk4MjIxNjI5MTAxNzI3NTg3OTI0MzA0NjA5NzI3MjcwODAyODcyOTcxOTkxNTM4NDI2MjEzMzM3NTgwNzgxMDQyODA5MTU1NzE4NzQxMTcxOTEzMzgwMTYwOTg4OTUxMTE5ODc2NzM4NTY3NzU2NzExMDAyNDgyMjg0NjU2MzU4NzQ0ODAwNzY4NjA5NDA2OTgyMzM2MjIyMDUzMjM2MTg3MzMwMzUwODQ2MTYwNTYwNjM0MTIxNDY3NjUwODkyNDUzMTE5MTMzMjgyMTc3MzA5NDgyODcxMjU4MjAzMjg3MTQzMzg2MTY1NTE0Nzg2NzkwNjkyNDkxMTA2NDYzNDE3MzM3NDI5NjAxNzkxMjQwMzAxMTU0MzIyNTM2NDk4MDg0NjgxNzczMTUwMzQwNzUxODY2NDI3MDA5NTY3NzI2MDA4NDA4MTI5MDM5OTcxMjcyNzYzNTI5MDEyOTkxODYyNDYyMjE5NTEyNDQ4NDY5NDE2MTA1NTI1MTgyMjU5NjYxODEyOTA2NTExMzI1MTQ3MzAzNDEyNjI3MDIxNjI2Nzk4OTI0NjgwNDg1ODk5NTUxMTYzMDA5MzYyMjQyNjk0NjEwMjEwOTU4MCJdXX0sICJub25jZSI6ICIxMTM2Mjc0NzA5Nzc3NDE4MzA4ODI0Njk3In0='}}]},\n 'state': 'offer-sent',\n 'conn_id': '2e2efaf8-93c5-4a7d-afd4-8c2f597918f7',\n 'cred_proposal': {'@type': 'did:sov:BzCbsNYhMrjHiqZDTUASHg;spec/issue-credential/2.0/propose-credential',\n  '@id': 'c44dd035-8637-43b7-a3f7-869ce40d99f3',\n  'credential_preview': {'@type': 'did:sov:BzCbsNYhMrjHiqZDTUASHg;spec/issue-credential/2.0/credential-preview',\n   'attributes': [{'name': 'holder', 'value': 'Alice Smith'},\n    {'name': 'issuer', 'value': 'FtT6DqATds6ws9FNqREy6H'},\n    {'name': 'ssn', 'value': '123456789'}]},\n  'formats': [{'attach_id': 'indy', 'format': 'hlindy-zkp-v1.0'}],\n  'filters~attach': [{'@id': 'indy',\n    'mime-type': 'application/json',\n    'data': {'base64': 'eyJjcmVkX2RlZl9pZCI6ICJGdFQ2RHFBVGRzNndzOUZOcVJFeTZIOjM6Q0w6NTIwMjM6ZGVmYXVsdCJ9'}}]},\n 'role': 'issuer',\n 'auto_remove': False,\n 'auto_offer': False,\n 'thread_id': 'a8f65549-7b0f-438b-9d6d-80dafe2e4c6b',\n 'created_at': '2021-03-03 00:53:25.330431Z',\n 'cred_ex_id': 'd51efecd-a626-45b6-9331-7a0aa9dd5f63',\n 'updated_at': '2021-03-03 00:53:25.330431Z',\n 'initiator': 'self',\n 'trace': False,\n 'cred_preview': {'@type': 'did:sov:BzCbsNYhMrjHiqZDTUASHg;spec/issue-credential/2.0/credential-preview',\n  'attributes': [{'name': 'holder', 'value': 'Alice Smith'},\n   {'name': 'issuer', 'value': 'FtT6DqATds6ws9FNqREy6H'},\n   {'name': 'ssn', 'value': '123456789'}]}}"
     },
     "metadata": {},
     "execution_count": 31
    }
   ],
   "metadata": {},
   "execution_count": 31
  },
  {
   "source": [
    "offer_request =   {\n",
    "    \"connection_id\": \"d33f1463-e0aa-4280-b097-05712cb757ad\",\n",
    "    \"proof_request\": {\n",
    "      \"name\": \"Proof of Education\",\n",
    "      \"version\": \"1.0\",\n",
    "      \"requested_attributes\": {\n",
    "        \"0_name_uuid\": {\n",
    "          \"name\": \"name\",\n",
    "          \"restrictions\": [\n",
    "            {\n",
    "              \"schema_name\": \"degree schema\"\n",
    "            }\n",
    "          ]\n",
    "        },\n",
    "        \"0_date_uuid\": {\n",
    "          \"name\": \"date\",\n",
    "          \"restrictions\": [\n",
    "            {\n",
    "              \"schema_name\": \"degree schema\"\n",
    "            }\n",
    "          ]\n",
    "        },\n",
    "        \"0_degree_uuid\": {\n",
    "          \"name\": \"degree\",\n",
    "          \"restrictions\": [\n",
    "            {\n",
    "              \"schema_name\": \"degree schema\"\n",
    "            }\n",
    "          ]\n",
    "        }\n",
    "      ]\n",
    "    },\n",
    "    \"filter\": {\n",
    "      \"indy\": {\n",
    "        \"cred_def_id\": \"FtT6DqATds6ws9FNqREy6H:3:CL:52021:Faber.Agent.degree_schema\"\n",
    "      }\n",
    "    },\n",
    "    \"trace\": False\n",
    "  }\n",
    "\n",
    "requests.post(\n",
    "    admin['faber'] + \"/issue-credential-2.0/send-offer\", \n",
    "    json=offer_request\n",
    ").json()"
   ],
   "cell_type": "code",
   "outputs": [
    {
     "output_type": "error",
     "ename": "SyntaxError",
     "evalue": "invalid syntax (<ipython-input-36-197ec313bc57>, line 31)",
     "traceback": [
      "\u001b[0;36m  File \u001b[0;32m\"<ipython-input-36-197ec313bc57>\"\u001b[0;36m, line \u001b[0;32m31\u001b[0m\n\u001b[0;31m    ]\u001b[0m\n\u001b[0m    ^\u001b[0m\n\u001b[0;31mSyntaxError\u001b[0m\u001b[0;31m:\u001b[0m invalid syntax\n"
     ]
    }
   ],
   "metadata": {},
   "execution_count": 36
  },
  {
   "source": [
    "proof_request = {\n",
    "    \"connection_id\": connection_id,\n",
    "    \"proof_request\": {\n",
    "        \"name\": \"Proof of Education\",\n",
    "        \"version\": \"1.0\",\n",
    "        \"requested_attributes\": {\n",
    "            \"0_name_uuid\": {\n",
    "                \"name\": \"name\"\n",
    "            }\n",
    "        },\n",
    "        \"requested_predicates\": {}\n",
    "    },\n",
    "    \"trace\": False\n",
    "}\n",
    "  \n",
    "requests.post(\n",
    "    admin['faber'] + \"/present-proof/send-request\", \n",
    "    json=proof_request\n",
    ").json()"
   ],
   "cell_type": "code",
   "outputs": [
    {
     "output_type": "execute_result",
     "data": {
      "text/plain": "{'presentation_request': {'name': 'Proof of Education',\n  'version': '1.0',\n  'requested_attributes': {'0_name_uuid': {'name': 'name'}},\n  'requested_predicates': {},\n  'nonce': '961572405810211622919343'},\n 'trace': False,\n 'auto_present': False,\n 'thread_id': '8b0708c4-4d3e-4613-a1fc-4a4dee3c19c1',\n 'presentation_request_dict': {'@type': 'did:sov:BzCbsNYhMrjHiqZDTUASHg;spec/present-proof/1.0/request-presentation',\n  '@id': '8b0708c4-4d3e-4613-a1fc-4a4dee3c19c1',\n  'request_presentations~attach': [{'@id': 'libindy-request-presentation-0',\n    'mime-type': 'application/json',\n    'data': {'base64': 'eyJuYW1lIjogIlByb29mIG9mIEVkdWNhdGlvbiIsICJ2ZXJzaW9uIjogIjEuMCIsICJyZXF1ZXN0ZWRfYXR0cmlidXRlcyI6IHsiMF9uYW1lX3V1aWQiOiB7Im5hbWUiOiAibmFtZSJ9fSwgInJlcXVlc3RlZF9wcmVkaWNhdGVzIjoge30sICJub25jZSI6ICI5NjE1NzI0MDU4MTAyMTE2MjI5MTkzNDMifQ=='}}]},\n 'state': 'request_sent',\n 'role': 'verifier',\n 'presentation_exchange_id': '41766e7a-e1ff-434b-9cca-48f1349827c4',\n 'created_at': '2021-03-03 01:00:59.383466Z',\n 'updated_at': '2021-03-03 01:00:59.383466Z',\n 'initiator': 'self',\n 'connection_id': '2e2efaf8-93c5-4a7d-afd4-8c2f597918f7'}"
     },
     "metadata": {},
     "execution_count": 35
    }
   ],
   "metadata": {},
   "execution_count": 35
  },
  {
   "source": [
    "creds = {'results': [{'attrs': {'age': '24',\n",
    "                        'date': '2018-05-28',\n",
    "                        'degree': 'Maths',\n",
    "                        'name': 'Alice Smith',\n",
    "                        'timestamp': '1614799320'},\n",
    "              'cred_def_id': 'MadyBKDn2giCmKRF8xGuFp:3:CL:52151:Faber.Agent.degree_schema',\n",
    "              'cred_rev_id': None,\n",
    "              'referent': '516ded46-3bf4-4171-ae6f-e43d7063e7f8',\n",
    "              'rev_reg_id': None,\n",
    "              'schema_id': 'MadyBKDn2giCmKRF8xGuFp:2:degree schema:36.100.6'},\n",
    "             {'attrs': {'holder': 'George',\n",
    "                        'issuer': 'MadyBKDn2giCmKRF8xGuFp',\n",
    "                        'ssn': '1',\n",
    "                        'timestamp': '1614800846'},\n",
    "              'cred_def_id': 'MadyBKDn2giCmKRF8xGuFp:3:CL:52153:ssn',\n",
    "              'cred_rev_id': None,\n",
    "              'referent': '810af234-ce9c-48d6-b4c4-6afd0de305a6',\n",
    "              'rev_reg_id': None,\n",
    "              'schema_id': 'MadyBKDn2giCmKRF8xGuFp:2:ssn:1.1.1'},\n",
    "             {'attrs': {'holder': 'George',\n",
    "                        'issuer': 'MadyBKDn2giCmKRF8xGuFp',\n",
    "                        'ssn': '1',\n",
    "                        'timestamp': '1614799973'},\n",
    "              'cred_def_id': 'MadyBKDn2giCmKRF8xGuFp:3:CL:52153:ssn',\n",
    "              'cred_rev_id': None,\n",
    "              'referent': 'd7e562da-68e7-4996-897b-06a7cc992c21',\n",
    "              'rev_reg_id': None,\n",
    "              'schema_id': 'MadyBKDn2giCmKRF8xGuFp:2:ssn:1.1.1'},\n",
    "             {'attrs': {'holder': 'George',\n",
    "                        'issuer': 'MadyBKDn2giCmKRF8xGuFp',\n",
    "                        'ssn': '1',\n",
    "                        'timestamp': '1614800134'},\n",
    "              'cred_def_id': 'MadyBKDn2giCmKRF8xGuFp:3:CL:52153:ssn',\n",
    "              'cred_rev_id': None,\n",
    "              'referent': '1415ad74-c0db-487c-ad78-e62baaf6d04c',\n",
    "              'rev_reg_id': None,\n",
    "              'schema_id': 'MadyBKDn2giCmKRF8xGuFp:2:ssn:1.1.1'}]}"
   ],
   "cell_type": "code",
   "outputs": [],
   "metadata": {},
   "execution_count": 5
  },
  {
   "source": [
    "sorted(\n",
    "    creds['results'],\n",
    "    key = lambda x: int(x['attrs']['timestamp']),\n",
    "    reverse=True\n",
    ")"
   ],
   "cell_type": "code",
   "outputs": [
    {
     "output_type": "execute_result",
     "data": {
      "text/plain": "[{'attrs': {'holder': 'George',\n   'issuer': 'MadyBKDn2giCmKRF8xGuFp',\n   'ssn': '1',\n   'timestamp': '1614800846'},\n  'cred_def_id': 'MadyBKDn2giCmKRF8xGuFp:3:CL:52153:ssn',\n  'cred_rev_id': None,\n  'referent': '810af234-ce9c-48d6-b4c4-6afd0de305a6',\n  'rev_reg_id': None,\n  'schema_id': 'MadyBKDn2giCmKRF8xGuFp:2:ssn:1.1.1'},\n {'attrs': {'holder': 'George',\n   'issuer': 'MadyBKDn2giCmKRF8xGuFp',\n   'ssn': '1',\n   'timestamp': '1614800134'},\n  'cred_def_id': 'MadyBKDn2giCmKRF8xGuFp:3:CL:52153:ssn',\n  'cred_rev_id': None,\n  'referent': '1415ad74-c0db-487c-ad78-e62baaf6d04c',\n  'rev_reg_id': None,\n  'schema_id': 'MadyBKDn2giCmKRF8xGuFp:2:ssn:1.1.1'},\n {'attrs': {'holder': 'George',\n   'issuer': 'MadyBKDn2giCmKRF8xGuFp',\n   'ssn': '1',\n   'timestamp': '1614799973'},\n  'cred_def_id': 'MadyBKDn2giCmKRF8xGuFp:3:CL:52153:ssn',\n  'cred_rev_id': None,\n  'referent': 'd7e562da-68e7-4996-897b-06a7cc992c21',\n  'rev_reg_id': None,\n  'schema_id': 'MadyBKDn2giCmKRF8xGuFp:2:ssn:1.1.1'},\n {'attrs': {'age': '24',\n   'date': '2018-05-28',\n   'degree': 'Maths',\n   'name': 'Alice Smith',\n   'timestamp': '1614799320'},\n  'cred_def_id': 'MadyBKDn2giCmKRF8xGuFp:3:CL:52151:Faber.Agent.degree_schema',\n  'cred_rev_id': None,\n  'referent': '516ded46-3bf4-4171-ae6f-e43d7063e7f8',\n  'rev_reg_id': None,\n  'schema_id': 'MadyBKDn2giCmKRF8xGuFp:2:degree schema:36.100.6'}]"
     },
     "metadata": {},
     "execution_count": 8
    }
   ],
   "metadata": {},
   "execution_count": 8
  },
  {
   "cell_type": "code",
   "execution_count": null,
   "metadata": {},
   "outputs": [],
   "source": []
  }
 ]
}